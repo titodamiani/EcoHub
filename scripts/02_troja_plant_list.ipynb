{
 "cells": [
  {
   "cell_type": "code",
   "execution_count": 1,
   "metadata": {},
   "outputs": [],
   "source": [
    "import os\n",
    "os.chdir('..')  #cd to project folder\n",
    "\n",
    "import pandas as pd\n",
    "from Bio import Phylo\n",
    "from pathlib import Path\n",
    "from src.utils import read_config\n",
    "\n",
    "#load config\n",
    "config = read_config(config_path=\"config/config.yaml\")"
   ]
  },
  {
   "cell_type": "code",
   "execution_count": 2,
   "metadata": {},
   "outputs": [],
   "source": [
    "#import data\n",
    "path = Path(config['input_files']['troja_plant_list'])\n",
    "plant_list = pd.read_csv(path, header=None)\n",
    "species_troja=plant_list[0]\n",
    "genera_troja = species_troja.str.split(' ', expand=True)[0].drop_duplicates()"
   ]
  },
  {
   "cell_type": "code",
   "execution_count": 3,
   "metadata": {},
   "outputs": [],
   "source": [
    "#import Angiosperms tree\n",
    "tree_path = Path(config[\"tree_files\"][\"zuntini_genus\"])\n",
    "tree = Phylo.read(tree_path, \"newick\")\n",
    "\n",
    "#create df from tree (order, family, genus, species)\n",
    "tree_leaves = [leaf.name for leaf in tree.get_terminals()] #extract leaf names\n",
    "tree_leaves = pd.Series(tree_leaves, name='leaf_name')\n",
    "tree_df = tree_leaves.str.split('_', expand=True)\n",
    "tree_df = tree_df.iloc[:, :4] #keep first 4 columns\n",
    "tree_df.columns = ['Order', 'Family', 'Genus', 'Species'] #rename columns\n",
    "tree_df = pd.concat([tree_leaves, tree_df], axis=1).rename(columns={0: 'leaf_name'}).set_index('leaf_name')\n",
    "genera_tree = pd.Series(tree_df['Genus'].unique())  #list of genera to be queried in Wikidata"
   ]
  },
  {
   "cell_type": "code",
   "execution_count": 29,
   "metadata": {},
   "outputs": [],
   "source": [
    "# Find overlap\n",
    "overlap = tree_df['Genus'][tree_df['Genus'].isin(genera_troja)]\n",
    "\n",
    "#write iTOL binary datasets\n",
    "output_path = Path('data/trees/iTOL_genera_in_troja.txt')\n",
    "with open(output_path, 'w') as f: \n",
    "    #write headers\n",
    "    f.write('DATASET_BINARY\\n')\n",
    "    f.write('SEPARATOR COMMA\\n')\n",
    "    f.write(f'DATASET_LABEL,Troja\\n') #dataset name\n",
    "    f.write(f'COLOR,#178513\\n') #dataset color\n",
    "    f.write(f'FIELD_SHAPES,1\\n') #dataset shape (square)\n",
    "    f.write(f'FIELD_LABELS,Troja\\n') #scaffold names\n",
    "    f.write('DATA\\n')\n",
    "\n",
    "    #write dataset\n",
    "    for leaf_name, genus in overlap.items():\n",
    "        f.write(f'{leaf_name},1\\n')"
   ]
  }
 ],
 "metadata": {
  "kernelspec": {
   "display_name": "ecohub",
   "language": "python",
   "name": "python3"
  },
  "language_info": {
   "codemirror_mode": {
    "name": "ipython",
    "version": 3
   },
   "file_extension": ".py",
   "mimetype": "text/x-python",
   "name": "python",
   "nbconvert_exporter": "python",
   "pygments_lexer": "ipython3",
   "version": "3.12.8"
  }
 },
 "nbformat": 4,
 "nbformat_minor": 2
}
