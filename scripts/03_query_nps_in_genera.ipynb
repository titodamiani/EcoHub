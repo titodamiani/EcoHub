{
 "cells": [
  {
   "cell_type": "code",
   "execution_count": 2,
   "metadata": {},
   "outputs": [],
   "source": [
    "import os\n",
    "os.chdir('..')  #cd to project folder\n",
    "\n",
    "import pandas as pd\n",
    "from pathlib import Path\n",
    "from Bio import Phylo\n",
    "import logging\n",
    "from concurrent.futures import ThreadPoolExecutor, as_completed\n",
    "from datetime import datetime\n",
    "from src.utils import read_config, generate_query, run_query\n"
   ]
  },
  {
   "cell_type": "code",
   "execution_count": 27,
   "metadata": {},
   "outputs": [
    {
     "name": "stderr",
     "output_type": "stream",
     "text": [
      "2024-11-18 12:32:52 - INFO: Reading config file...\n",
      "2024-11-18 12:32:52 - INFO: Importing Angiosperms phylogenetic tree...\n",
      "2024-11-18 12:32:52 - INFO: Angiosperms phylogenetic tree successfully imported!\n",
      "2024-11-18 12:32:52 - INFO: Parsing phylogenetic tree...\n",
      "2024-11-18 12:32:52 - INFO: Tree contains 7922 leaves\n",
      "2024-11-18 12:32:52 - INFO: 293 species names are not defined (e.g., 'Lessertia_sp.')\n",
      "2024-11-18 12:32:52 - INFO: Converting tree into pandas dataframe...\n",
      "2024-11-18 12:32:52 - INFO: Extracting list of genera...\n"
     ]
    }
   ],
   "source": [
    "\n",
    "#setup logging\n",
    "log_file = f\"logs/nps_in_genera_{datetime.now().strftime('%Y%m%d_%H%M%S')}.log\"\n",
    "logging.basicConfig(\n",
    "    level=logging.INFO,\n",
    "    format=\"%(asctime)s - %(levelname)s: %(message)s\",\n",
    "    datefmt=\"%Y-%m-%d %H:%M:%S\",  # Custom date format without milliseconds\n",
    "    handlers=[\n",
    "        logging.FileHandler(log_file, mode='w'), #logs to file\n",
    "        logging.StreamHandler()])  #logs to also to console\n",
    "\n",
    "#load config\n",
    "logging.info(f\"Reading config file...\")\n",
    "config = read_config(config_path=\"config/config.yaml\")\n",
    "\n",
    "#import Angiosperms tree\n",
    "logging.info(f\"Importing Angiosperms phylogenetic tree...\")\n",
    "tree_file_path = Path(config[\"input_files\"][\"phylogenetic_tree\"])\n",
    "if tree_file_path.exists():\n",
    "        tree = Phylo.read(tree_file_path, \"newick\")\n",
    "        logging.info(f\"Angiosperms phylogenetic tree successfully imported!\")\n",
    "else:\n",
    "    logging.error(f\"No tree file found at {tree_file_path}.\")\n",
    "\n",
    "\n",
    "#extract leaf names\n",
    "logging.info(f\"Parsing phylogenetic tree...\")\n",
    "tree_leaves = [leaf.name for leaf in tree.get_terminals()]\n",
    "tree_leaves = pd.Series(tree_leaves, name='leaf_name')\n",
    "logging.info(f'Tree contains {len(tree_leaves)} leaves')\n",
    "logging.info(f\"{tree_leaves.str.endswith('sp.').sum()} species names are not defined (e.g., 'Lessertia_sp.')\")\n",
    "\n",
    "#create df with order, family, genus, species\n",
    "logging.info(f'Converting tree into pandas dataframe...')\n",
    "tree_df = tree_leaves.str.split('_', expand=True)\n",
    "tree_df = tree_df.iloc[:, :4] #keep first 4 columns\n",
    "tree_df.columns = ['Order', 'Family', 'Genus', 'Species'] #rename columns\n",
    "tree_df = pd.concat([tree_leaves, tree_df], axis=1).rename(columns={0: 'leaf_name'}).set_index('leaf_name')\n",
    "\n",
    "#list of genera in the tree to be queried in Wikidata\n",
    "logging.info(f'Extracting list of genera...')\n",
    "genera_list = tree_df['Genus'].unique()\n",
    "####\n",
    "#select first 500 genera for testing\n",
    "genera_list = genera_list[10:20]\n",
    "####"
   ]
  },
  {
   "cell_type": "code",
   "execution_count": 28,
   "metadata": {},
   "outputs": [
    {
     "name": "stdout",
     "output_type": "stream",
     "text": [
      "10\n"
     ]
    }
   ],
   "source": [
    "print(len(genera_list))"
   ]
  },
  {
   "cell_type": "code",
   "execution_count": null,
   "metadata": {},
   "outputs": [
    {
     "name": "stderr",
     "output_type": "stream",
     "text": [
      "2024-11-18 12:32:56 - INFO: Query for 'Trichoneura' genus completed in 1 attempts.\n",
      "2024-11-18 12:32:56 - INFO: Query for 'Lophacme' genus completed in 1 attempts.\n",
      "2024-11-18 12:32:56 - INFO: Query for 'Dignathia' genus completed in 1 attempts.\n",
      "2024-11-18 12:32:56 - INFO: Query for 'Hubbardochloa' genus completed in 1 attempts.\n",
      "2024-11-18 12:32:56 - INFO: Query for 'Coleanthus' genus completed in 1 attempts.\n",
      "2024-11-18 12:32:56 - INFO: Query for 'Tetrachaete' genus completed in 1 attempts.\n",
      "2024-11-18 12:32:56 - INFO: Query for 'Bewsia' genus completed in 1 attempts.\n",
      "2024-11-18 12:32:56 - INFO: Query for 'Perotis' genus completed in 1 attempts.\n",
      "2024-11-18 12:32:56 - INFO: Query for 'Mosdenia' genus completed in 1 attempts.\n"
     ]
    },
    {
     "name": "stdout",
     "output_type": "stream",
     "text": [
      "Query for 'Trichoneura' returned no output.\n",
      "Query for 'Lophacme' returned no output.\n",
      "Query for 'Dignathia' returned no output.\n",
      "Query for 'Hubbardochloa' returned no output.\n",
      "Query for 'Coleanthus' returned no output.\n",
      "Query for 'Tetrachaete' returned no output.\n",
      "Query for 'Bewsia' returned no output.\n",
      "Query for 'Perotis' returned no output.\n",
      "Query for 'Mosdenia' returned no output.\n"
     ]
    },
    {
     "name": "stderr",
     "output_type": "stream",
     "text": [
      "2024-11-18 12:32:56 - INFO: Query for 'Lepturidium' genus completed in 1 attempts.\n",
      "2024-11-18 12:32:56 - INFO: Processing completed: 10 queries run.\n",
      "2024-11-18 12:32:56 - INFO: 10 queries succeeded.\n"
     ]
    },
    {
     "name": "stdout",
     "output_type": "stream",
     "text": [
      "Query for 'Lepturidium' returned no output.\n"
     ]
    }
   ],
   "source": [
    "def process_genera_parallel(genera_list, threads=20, max_attempts=5):\n",
    "    all_results = []\n",
    "    failed_tasks = {}\n",
    "\n",
    "    with ThreadPoolExecutor(max_workers=threads) as executor:\n",
    "        tasks = {executor.submit(run_query, genus, max_attempts): genus for genus in genera_list}\n",
    "\n",
    "        for completed_task in as_completed(tasks):\n",
    "            genus_name = tasks[completed_task]\n",
    "            try:\n",
    "                output = completed_task.result()\n",
    "                all_results.append(output)  # Append all results, including None\n",
    "                if output.empty:\n",
    "                    print(f\"Query for '{genus_name}' returned no results\")\n",
    "                    #append to all_results\n",
    "\n",
    "            except Exception as e:\n",
    "                failed_tasks[genus_name] = str(e)\n",
    "\n",
    "    logging.info(f\"Processing completed: {len(genera_list)} queries run.\")\n",
    "    logging.info(f\"{len(genera_list) - len(failed_tasks)} queries succeeded.\")\n",
    "    if failed_tasks:\n",
    "        logging.warning(f\"{len(failed_tasks)} queries failed:\")\n",
    "        for genus, reason in failed_tasks.items():\n",
    "            logging.error(f\"'{genus}': {reason}\")\n",
    "\n",
    "    return pd.concat(all_results, ignore_index=True) if all_results else pd.DataFrame(), failed_tasks\n",
    "\n",
    "#run SPARQL queries (parallelized)\n",
    "results_df, failed_tasks = process_genera_parallel(genera_list, threads=20)"
   ]
  },
  {
   "cell_type": "code",
   "execution_count": 14,
   "metadata": {},
   "outputs": [
    {
     "name": "stderr",
     "output_type": "stream",
     "text": [
      "2024-11-18 12:30:18 - INFO: Query for 'Afroligusticum' genus completed in 1 attempts.\n"
     ]
    },
    {
     "data": {
      "text/html": [
       "<div>\n",
       "<style scoped>\n",
       "    .dataframe tbody tr th:only-of-type {\n",
       "        vertical-align: middle;\n",
       "    }\n",
       "\n",
       "    .dataframe tbody tr th {\n",
       "        vertical-align: top;\n",
       "    }\n",
       "\n",
       "    .dataframe thead th {\n",
       "        text-align: right;\n",
       "    }\n",
       "</style>\n",
       "<table border=\"1\" class=\"dataframe\">\n",
       "  <thead>\n",
       "    <tr style=\"text-align: right;\">\n",
       "      <th></th>\n",
       "    </tr>\n",
       "  </thead>\n",
       "  <tbody>\n",
       "  </tbody>\n",
       "</table>\n",
       "</div>"
      ],
      "text/plain": [
       "Empty DataFrame\n",
       "Columns: []\n",
       "Index: []"
      ]
     },
     "execution_count": 14,
     "metadata": {},
     "output_type": "execute_result"
    }
   ],
   "source": [
    "from src.utils import run_query\n",
    "\n",
    "#run query on Afroligusticum\n",
    "genus = 'Afroligusticum'\n",
    "results = run_query(genus)\n",
    "results"
   ]
  },
  {
   "cell_type": "code",
   "execution_count": null,
   "metadata": {},
   "outputs": [
    {
     "data": {
      "text/plain": [
       "True"
      ]
     },
     "execution_count": 22,
     "metadata": {},
     "output_type": "execute_result"
    }
   ],
   "source": [
    "#is results_df empty?\n",
    "if results.empty:\n",
    "    \n",
    "\n",
    "#is results\n",
    "\n"
   ]
  }
 ],
 "metadata": {
  "kernelspec": {
   "display_name": "tropicana",
   "language": "python",
   "name": "python3"
  },
  "language_info": {
   "codemirror_mode": {
    "name": "ipython",
    "version": 3
   },
   "file_extension": ".py",
   "mimetype": "text/x-python",
   "name": "python",
   "nbconvert_exporter": "python",
   "pygments_lexer": "ipython3",
   "version": "3.11.0"
  }
 },
 "nbformat": 4,
 "nbformat_minor": 2
}
