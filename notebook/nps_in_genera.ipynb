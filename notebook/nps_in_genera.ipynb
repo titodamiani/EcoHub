{
 "cells": [
  {
   "cell_type": "code",
   "execution_count": 1,
   "metadata": {},
   "outputs": [],
   "source": [
    "import os\n",
    "os.chdir('..')  #cd to project folder\n",
    "\n",
    "import pandas as pd\n",
    "from pathlib import Path\n",
    "from Bio import Phylo\n",
    "from src.utils import read_config, parse_tree"
   ]
  },
  {
   "cell_type": "code",
   "execution_count": 66,
   "metadata": {},
   "outputs": [],
   "source": [
    "#import config\n",
    "config = read_config(config_path=\"config/config.yaml\")\n",
    "\n",
    "#import tree file\n",
    "tree_file_path = Path(config[\"input_files\"][\"phylogenetic_tree\"])\n",
    "tree = Phylo.read(tree_file_path, \"newick\")\n",
    "tree_df = parse_tree(tree)\n",
    "\n",
    "#import nps_in_genera output\n",
    "file_path = Path(config[\"output_files\"][\"nps_in_genera\"])\n",
    "nps_in_genera = pd.read_csv(file_path)"
   ]
  },
  {
   "cell_type": "code",
   "execution_count": 67,
   "metadata": {},
   "outputs": [
    {
     "name": "stdout",
     "output_type": "stream",
     "text": [
      "Tree has 7922 genera\n",
      "At least 1 natural product report in Wikidata for 3457 genera\n",
      "No natural products reported in Wikidata for 4465 genera\n"
     ]
    },
    {
     "data": {
      "text/html": [
       "<div>\n",
       "<style scoped>\n",
       "    .dataframe tbody tr th:only-of-type {\n",
       "        vertical-align: middle;\n",
       "    }\n",
       "\n",
       "    .dataframe tbody tr th {\n",
       "        vertical-align: top;\n",
       "    }\n",
       "\n",
       "    .dataframe thead th {\n",
       "        text-align: right;\n",
       "    }\n",
       "</style>\n",
       "<table border=\"1\" class=\"dataframe\">\n",
       "  <thead>\n",
       "    <tr style=\"text-align: right;\">\n",
       "      <th></th>\n",
       "      <th>Order</th>\n",
       "      <th>Family</th>\n",
       "      <th>Genus</th>\n",
       "      <th>Species</th>\n",
       "      <th>Count</th>\n",
       "    </tr>\n",
       "    <tr>\n",
       "      <th>leaf_name</th>\n",
       "      <th></th>\n",
       "      <th></th>\n",
       "      <th></th>\n",
       "      <th></th>\n",
       "      <th></th>\n",
       "    </tr>\n",
       "  </thead>\n",
       "  <tbody>\n",
       "    <tr>\n",
       "      <th>Poales_Poaceae_Neostapfia_colusana</th>\n",
       "      <td>Poales</td>\n",
       "      <td>Poaceae</td>\n",
       "      <td>Neostapfia</td>\n",
       "      <td>colusana</td>\n",
       "      <td>NaN</td>\n",
       "    </tr>\n",
       "    <tr>\n",
       "      <th>Poales_Poaceae_Orcuttia_tenuis</th>\n",
       "      <td>Poales</td>\n",
       "      <td>Poaceae</td>\n",
       "      <td>Orcuttia</td>\n",
       "      <td>tenuis</td>\n",
       "      <td>NaN</td>\n",
       "    </tr>\n",
       "    <tr>\n",
       "      <th>Poales_Poaceae_Orinus_thoroldii</th>\n",
       "      <td>Poales</td>\n",
       "      <td>Poaceae</td>\n",
       "      <td>Orinus</td>\n",
       "      <td>thoroldii</td>\n",
       "      <td>NaN</td>\n",
       "    </tr>\n",
       "  </tbody>\n",
       "</table>\n",
       "</div>"
      ],
      "text/plain": [
       "                                     Order   Family       Genus    Species  \\\n",
       "leaf_name                                                                    \n",
       "Poales_Poaceae_Neostapfia_colusana  Poales  Poaceae  Neostapfia   colusana   \n",
       "Poales_Poaceae_Orcuttia_tenuis      Poales  Poaceae    Orcuttia     tenuis   \n",
       "Poales_Poaceae_Orinus_thoroldii     Poales  Poaceae      Orinus  thoroldii   \n",
       "\n",
       "                                    Count  \n",
       "leaf_name                                  \n",
       "Poales_Poaceae_Neostapfia_colusana    NaN  \n",
       "Poales_Poaceae_Orcuttia_tenuis        NaN  \n",
       "Poales_Poaceae_Orinus_thoroldii       NaN  "
      ]
     },
     "execution_count": 67,
     "metadata": {},
     "output_type": "execute_result"
    }
   ],
   "source": [
    "#count unique nps in each genus\n",
    "nps_in_genera_count = nps_in_genera.groupby('genus_name')['structure_inchikey'].nunique()\n",
    "nps_in_genera_count.rename('Count', inplace=True)\n",
    "tree_df = tree_df.merge(nps_in_genera_count,  how='left', left_on='Genus', right_index=True)\n",
    "\n",
    "#summary\n",
    "print(f\"Tree has {tree_df['Count'].shape[0]} genera\")\n",
    "print(f\"At least 1 natural product report in Wikidata for {tree_df['Count'].count()} genera\")\n",
    "print(f\"No natural products reported in Wikidata for {tree_df['Count'].isna().sum()} genera\")\n",
    "tree_df.head(n=3)"
   ]
  },
  {
   "cell_type": "code",
   "execution_count": 68,
   "metadata": {},
   "outputs": [],
   "source": [
    "#export NPs in genera count\n",
    "tree_df['Count'].fillna(0, inplace=True)\n",
    "tree_df['Count'].astype(int).to_csv(Path(config[\"output_files\"][\"nps_in_genera_count\"]), header=False)"
   ]
  },
  {
   "cell_type": "code",
   "execution_count": 70,
   "metadata": {},
   "outputs": [],
   "source": [
    "#NPs in Family\n",
    "# tree_df = tree_df.groupby('Family')['Count'].sum()\n",
    "nps_in_family = nps_in_genera.merge(tree_df[['Genus', 'Family']], left_on='genus_name', right_on='Genus').drop(columns=['genus', 'genus_name'])\n",
    "nps_in_family.groupby('Family')['structure_inchikey'].nunique().to_csv(Path(config[\"output_files\"][\"nps_in_family_count\"]), header=False)"
   ]
  },
  {
   "cell_type": "code",
   "execution_count": null,
   "metadata": {},
   "outputs": [],
   "source": [
    "#count unique nps in each Family\n",
    "np_in_family = nps_in_genera.groupby('genus_name')['structure_inchikey'].nunique()\n",
    "np_in_family.rename('Count', inplace=True)\n",
    "np_in_family = pd.DataFrame(tree_df['Genus']).merge(np_in_family,  how='left', left_on='Genus', right_index=True) #merge NPs count to tree_df\n",
    "\n",
    "#export\n",
    "np_in_family['Count'].fillna(0, inplace=True)\n",
    "np_in_family['Count'].astype(int).to_csv(Path(config[\"output_files\"][\"nps_in_genera_count\"]), header=False)\n",
    "\n",
    "#summary\n",
    "print(f\"Tree has {np_in_family['Count'].shape[0]} genera\")\n",
    "print(f\"At least 1 natural product report in Wikidata for {np_in_family['Count'].count()} genera\")\n",
    "print(f\"No natural products reported in Wikidata for {np_in_family['Count'].isna().sum()} genera\")\n",
    "np_in_family.head(n=3)"
   ]
  },
  {
   "cell_type": "code",
   "execution_count": 26,
   "metadata": {},
   "outputs": [],
   "source": [
    "#export NPs count\n",
    "tree_df['NPs_count'] = tree_df['NPs_count'].fillna(0)\n",
    "tree_df.head(n=5)\n",
    "\n",
    "tree_df['NPs_count'].astype(int).to_csv(Path(config[\"output_files\"][\"nps_in_genera_count\"]), header=False)\n",
    "# output_file_path = Path(config[\"output_files\"][\"nps_count_in_genera\"])\n",
    "# tree_df.to_csv(output_file_path, index=False)"
   ]
  },
  {
   "cell_type": "code",
   "execution_count": null,
   "metadata": {},
   "outputs": [
    {
     "data": {
      "text/plain": [
       "count    3457.000000\n",
       "mean       70.358982\n",
       "std       151.513886\n",
       "min         1.000000\n",
       "25%         6.000000\n",
       "50%        21.000000\n",
       "75%        64.000000\n",
       "max      2127.000000\n",
       "Name: NPs_count, dtype: float64"
      ]
     },
     "execution_count": 19,
     "metadata": {},
     "output_type": "execute_result"
    }
   ],
   "source": [
    "tree_df[~tree_df['NPs_count'].isna()]['NPs_count'].astype(int)\n"
   ]
  }
 ],
 "metadata": {
  "kernelspec": {
   "display_name": "tropicana",
   "language": "python",
   "name": "python3"
  },
  "language_info": {
   "codemirror_mode": {
    "name": "ipython",
    "version": 3
   },
   "file_extension": ".py",
   "mimetype": "text/x-python",
   "name": "python",
   "nbconvert_exporter": "python",
   "pygments_lexer": "ipython3",
   "version": "3.11.0"
  }
 },
 "nbformat": 4,
 "nbformat_minor": 2
}
